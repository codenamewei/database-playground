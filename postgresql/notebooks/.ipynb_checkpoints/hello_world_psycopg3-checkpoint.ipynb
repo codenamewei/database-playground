{
 "cells": [
  {
   "cell_type": "code",
   "execution_count": null,
   "source": [
    "# Note: the module name is psycopg, not psycopg3\r\n",
    "import psycopg"
   ],
   "outputs": [],
   "metadata": {}
  },
  {
   "cell_type": "code",
   "execution_count": null,
   "source": [
    "# connect to an existing database\r\n",
    "\r\n",
    "conn = psycopg.connect(\"dbname=dvdrental user=postgres\")\r\n",
    "\r\n",
    "# open a cursor to perform database operations\r\n",
    "cur = conn.cursor()"
   ],
   "outputs": [],
   "metadata": {}
  },
  {
   "cell_type": "code",
   "execution_count": null,
   "source": [
    "# execute a command: this creates a new table\r\n",
    "cur.execute(\"\"\"\r\n",
    "CREATE TABLE hero(\r\n",
    "    id serial PRIMARY KEY, \r\n",
    "    num integer, \r\n",
    "    data text\r\n",
    ")\r\n",
    "\"\"\")\r\n",
    "\r\n",
    "# pass data to fill a query placeholders and let psycopg perform the current conversion (no SQL injections)\r\n",
    "cur.execute(\"INSERT INTO hero (num, data) VALUES (%s, %s)\", (100, \"abc'def\"))"
   ],
   "outputs": [],
   "metadata": {}
  },
  {
   "cell_type": "code",
   "execution_count": null,
   "source": [
    "# query the databaseand obtain data as python objects\r\n",
    "cur.execute(\"SELECT * FROM hero\")\r\n",
    "\r\n",
    "#cur.fetchone()\r\n",
    "#cur.fetchmany(n)\r\n",
    "#cur.fetchall()\r\n",
    "cur.fetchone()\r\n",
    "#will return (1, 100, \"abc'def\")\r\n",
    "\r\n",
    "# possible to iterate on the cursor\r\n",
    "for record in cur:\r\n",
    "    print(record)\r\n",
    "\r\n",
    "# commit the changes to the database\r\n",
    "conn.commit()\r\n",
    "\r\n",
    "# Don't forget to close the connection!\r\n",
    "# killing the kernel or shutting down juptyer will also close it\r\n",
    "conn.close()"
   ],
   "outputs": [],
   "metadata": {}
  }
 ],
 "metadata": {
  "language_info": {
   "name": "python",
   "version": "3.9.7",
   "mimetype": "text/x-python",
   "codemirror_mode": {
    "name": "ipython",
    "version": 3
   },
   "pygments_lexer": "ipython3",
   "nbconvert_exporter": "python",
   "file_extension": ".py"
  },
  "kernelspec": {
   "name": "python3",
   "display_name": "Python 3.9.7 64-bit ('postgres-playground': conda)"
  },
  "interpreter": {
   "hash": "d9c849a9acc0b67125e4c52c5ccdf37eee71d00b925fe5ba553e32c4b87a7c7e"
  }
 },
 "nbformat": 4,
 "nbformat_minor": 4
}