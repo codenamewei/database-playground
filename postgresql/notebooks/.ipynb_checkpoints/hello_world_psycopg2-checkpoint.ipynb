{
 "cells": [
  {
   "cell_type": "code",
   "execution_count": 1,
   "metadata": {},
   "outputs": [
    {
     "ename": "OperationalError",
     "evalue": "FATAL:  password authentication failed for user \"postgres\"\n",
     "output_type": "error",
     "traceback": [
      "\u001b[1;31m---------------------------------------------------------------------------\u001b[0m",
      "\u001b[1;31mOperationalError\u001b[0m                          Traceback (most recent call last)",
      "\u001b[1;32mC:\\Users\\CODENA~1\\AppData\\Local\\Temp/ipykernel_21328/4258356656.py\u001b[0m in \u001b[0;36m<module>\u001b[1;34m\u001b[0m\n\u001b[0;32m     19\u001b[0m \u001b[1;31m# Create a connection with PostgreSQL\u001b[0m\u001b[1;33m\u001b[0m\u001b[1;33m\u001b[0m\u001b[0m\n\u001b[0;32m     20\u001b[0m \u001b[1;31m# 'password' is whatever password you set, we set password in the install video\u001b[0m\u001b[1;33m\u001b[0m\u001b[1;33m\u001b[0m\u001b[0m\n\u001b[1;32m---> 21\u001b[1;33m \u001b[0mconn\u001b[0m \u001b[1;33m=\u001b[0m \u001b[0mpg2\u001b[0m\u001b[1;33m.\u001b[0m\u001b[0mconnect\u001b[0m\u001b[1;33m(\u001b[0m\u001b[0mdatabase\u001b[0m\u001b[1;33m=\u001b[0m\u001b[1;34m'postgres'\u001b[0m\u001b[1;33m,\u001b[0m \u001b[0muser\u001b[0m\u001b[1;33m=\u001b[0m\u001b[1;34m'postgres'\u001b[0m\u001b[1;33m,\u001b[0m\u001b[0mpassword\u001b[0m\u001b[1;33m=\u001b[0m\u001b[1;34m'password'\u001b[0m\u001b[1;33m)\u001b[0m\u001b[1;33m\u001b[0m\u001b[1;33m\u001b[0m\u001b[0m\n\u001b[0m\u001b[0;32m     22\u001b[0m \u001b[1;33m\u001b[0m\u001b[0m\n\u001b[0;32m     23\u001b[0m \u001b[1;33m\u001b[0m\u001b[0m\n",
      "\u001b[1;32m~\\.conda\\envs\\postgres2-playground\\lib\\site-packages\\psycopg2\\__init__.py\u001b[0m in \u001b[0;36mconnect\u001b[1;34m(dsn, connection_factory, cursor_factory, **kwargs)\u001b[0m\n\u001b[0;32m    120\u001b[0m \u001b[1;33m\u001b[0m\u001b[0m\n\u001b[0;32m    121\u001b[0m     \u001b[0mdsn\u001b[0m \u001b[1;33m=\u001b[0m \u001b[0m_ext\u001b[0m\u001b[1;33m.\u001b[0m\u001b[0mmake_dsn\u001b[0m\u001b[1;33m(\u001b[0m\u001b[0mdsn\u001b[0m\u001b[1;33m,\u001b[0m \u001b[1;33m**\u001b[0m\u001b[0mkwargs\u001b[0m\u001b[1;33m)\u001b[0m\u001b[1;33m\u001b[0m\u001b[1;33m\u001b[0m\u001b[0m\n\u001b[1;32m--> 122\u001b[1;33m     \u001b[0mconn\u001b[0m \u001b[1;33m=\u001b[0m \u001b[0m_connect\u001b[0m\u001b[1;33m(\u001b[0m\u001b[0mdsn\u001b[0m\u001b[1;33m,\u001b[0m \u001b[0mconnection_factory\u001b[0m\u001b[1;33m=\u001b[0m\u001b[0mconnection_factory\u001b[0m\u001b[1;33m,\u001b[0m \u001b[1;33m**\u001b[0m\u001b[0mkwasync\u001b[0m\u001b[1;33m)\u001b[0m\u001b[1;33m\u001b[0m\u001b[1;33m\u001b[0m\u001b[0m\n\u001b[0m\u001b[0;32m    123\u001b[0m     \u001b[1;32mif\u001b[0m \u001b[0mcursor_factory\u001b[0m \u001b[1;32mis\u001b[0m \u001b[1;32mnot\u001b[0m \u001b[1;32mNone\u001b[0m\u001b[1;33m:\u001b[0m\u001b[1;33m\u001b[0m\u001b[1;33m\u001b[0m\u001b[0m\n\u001b[0;32m    124\u001b[0m         \u001b[0mconn\u001b[0m\u001b[1;33m.\u001b[0m\u001b[0mcursor_factory\u001b[0m \u001b[1;33m=\u001b[0m \u001b[0mcursor_factory\u001b[0m\u001b[1;33m\u001b[0m\u001b[1;33m\u001b[0m\u001b[0m\n",
      "\u001b[1;31mOperationalError\u001b[0m: FATAL:  password authentication failed for user \"postgres\"\n"
     ]
    }
   ],
   "source": [
    "# coding: utf-8\r\n",
    "\r\n",
    "# # Using PostgreSQL in Python (with Psycopg2)\r\n",
    "# \r\n",
    "# ### Psycopg2\r\n",
    "# \r\n",
    "# A library that allows Python to connect to an existing PostgreSQL database to utilize SQL functionality.\r\n",
    "# \r\n",
    "# #### Documentation\r\n",
    "#  * http://initd.org/psycopg/docs/install.html\r\n",
    "# \r\n",
    "\r\n",
    "\r\n",
    "\r\n",
    "# After installing with pip install psycopg2\r\n",
    "import psycopg2 as pg2\r\n",
    "\r\n",
    "\r\n",
    "# Create a connection with PostgreSQL\r\n",
    "# 'password' is whatever password you set, we set password in the install video\r\n",
    "conn = pg2.connect(database='postgres', user='postgres',password='password')\r\n",
    "\r\n",
    "\r\n",
    "# Establish connection and start cursor to be ready to query\r\n",
    "cur = conn.cursor()\r\n",
    "\r\n",
    "# Pass in a PostgreSQL query as a string\r\n",
    "cur.execute(\"SELECT * FROM payment\")\r\n",
    "\r\n",
    "\r\n",
    "# Return a tuple of the first row as Python objects\r\n",
    "cur.fetchone()\r\n",
    "\r\n",
    "# Return N number of rows\r\n",
    "cur.fetchmany(10)\r\n",
    "\r\n",
    "# Return All rows at once\r\n",
    "cur.fetchall()\r\n",
    "\r\n",
    "# To save and index results, assign it to a variable\r\n",
    "data = cur.fetchmany(10)\r\n",
    "\r\n",
    "# **Inserting Information**\r\n",
    "\r\n",
    "query1 = '''\r\n",
    "        CREATE TABLE new_table (\r\n",
    "            userid integer\r\n",
    "            , tmstmp timestamp\r\n",
    "            , type varchar(10)\r\n",
    "        );\r\n",
    "        '''\r\n",
    "\r\n",
    "\r\n",
    "cur.execute(query1)\r\n",
    "\r\n",
    "# commit the changes to the database\r\n",
    "cur.commit()\r\n",
    "\r\n",
    "\r\n",
    "# Don't forget to close the connection!\r\n",
    "# killing the kernel or shutting down juptyer will also close it\r\n",
    "conn.close()"
   ]
  },
  {
   "cell_type": "code",
   "execution_count": null,
   "metadata": {},
   "outputs": [],
   "source": []
  }
 ],
 "metadata": {
  "kernelspec": {
   "display_name": "Python 3 (ipykernel)",
   "language": "python",
   "name": "python3"
  },
  "language_info": {
   "codemirror_mode": {
    "name": "ipython",
    "version": 3
   },
   "file_extension": ".py",
   "mimetype": "text/x-python",
   "name": "python",
   "nbconvert_exporter": "python",
   "pygments_lexer": "ipython3",
   "version": "3.9.7"
  }
 },
 "nbformat": 4,
 "nbformat_minor": 4
}
